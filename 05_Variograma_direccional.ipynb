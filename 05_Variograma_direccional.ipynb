{
 "cells": [
  {
   "cell_type": "code",
   "execution_count": null,
   "id": "14a52456",
   "metadata": {},
   "outputs": [],
   "source": [
    "%matplotlib inline\n",
    "import warnings\n",
    "warnings.filterwarnings('ignore')"
   ]
  },
  {
   "cell_type": "markdown",
   "id": "04508f18",
   "metadata": {},
   "source": [
    "## Estimación del variograma direccional\n",
    "<img src=\"data/variograma_direccional.png\" width=\"500\">\n",
    "\n",
    "- $\\delta$ >> Angular tolerance\n",
    "- $t_{h}$ >> Lag tolerance\n",
    "- $t_{b}$ >> Bandwidth. "
   ]
  },
  {
   "cell_type": "code",
   "execution_count": null,
   "id": "da3224bc",
   "metadata": {},
   "outputs": [],
   "source": [
    "# Importamos módulos para el análisis\n",
    "import pandas as pd\n",
    "import numpy as np\n",
    "import matplotlib.pyplot as plt\n",
    "import gstools as gs\n",
    "\n",
    "# Posibles modelos de variograma\n",
    "models = {\n",
    "    \"Gaussian\": gs.Gaussian,\n",
    "    \"Exponential\": gs.Exponential,\n",
    "    \"Stable\": gs.Stable,\n",
    "    \"Rational\": gs.Rational,\n",
    "    \"Circular\": gs.Circular,\n",
    "    \"Spherical\": gs.Spherical,\n",
    "    \"SuperSpherical\": gs.SuperSpherical,\n",
    "    \"JBessel\": gs.JBessel,\n",
    "}"
   ]
  },
  {
   "cell_type": "code",
   "execution_count": null,
   "id": "0e29142d",
   "metadata": {},
   "outputs": [],
   "source": [
    "# ESPEFICICAMOS ARCHIVO Y SEPARADOR DE COLUMNAS\n",
    "#@@@@@@@@@@@@@@@@@@@@@@@@@@@@@@@@@@@@@@@@@@@@@@\n",
    "FILE = \"data/UNCF_dataset.xlsx\"\n",
    "HOJA = \"Hoja1\"\n",
    "#@@@@@@@@@@@@@@@@@@@@@@@@@@@@@@@@@@@@@@@@@@@@@@\n",
    "data = pd.read_excel(FILE, HOJA, engine = \"openpyxl\")\n",
    "data.describe()"
   ]
  },
  {
   "cell_type": "code",
   "execution_count": null,
   "id": "5e34a68f",
   "metadata": {},
   "outputs": [],
   "source": [
    "# ESPEFICICAMOS CAMPOS Y REPRESENTAMOS\n",
    "#@@@@@@@@@@@@@@@@@@@@@@@@@@@@@@@@@@@@@@\n",
    "XCOL = \"X\"\n",
    "YCOL = \"Y\"\n",
    "VCOL = \"Elevation (ft)\"\n",
    "#@@@@@@@@@@@@@@@@@@@@@@@@@@@@@@@@@@@@@@\n",
    "\n",
    "xi = data[XCOL]\n",
    "yi = data[YCOL]\n",
    "val = data[VCOL]*-1\n",
    "plt.scatter(xi, yi, marker=\"s\")"
   ]
  },
  {
   "cell_type": "code",
   "execution_count": null,
   "id": "dfdd1a35",
   "metadata": {},
   "outputs": [],
   "source": [
    "# ESTIMACIÓN DEL VARIOGRAMA EXPERIMENTAL\n",
    "# EN 2 DIRECCIONES\n",
    "#@@@@@@@@@@@@@@@@@@@@@@@@@@@@@@@@@@@@@@@\n",
    "bins = None\n",
    "#bins = np.arange(400, 11000, 600)\n",
    "ANGULOS = [0, 90]\n",
    "ANG_TOL = 22.5\n",
    "BANDWIDTH = None\n",
    "#@@@@@@@@@@@@@@@@@@@@@@@@@@@@@@@@@@@@@@@\n",
    "\n",
    "coords = [xi, yi]\n",
    "angles = np.deg2rad(ANGULOS)\n",
    "ang_tol = np.deg2rad(ANG_TOL)\n",
    "bin_center, gamma = gs.vario_estimate(coords, val, bins, angles=angles, angles_tol=ang_tol, bandwidth=BANDWIDTH)\n",
    "fig = plt.figure()\n",
    "ax = fig.add_subplot(111)\n",
    "\n",
    "for n in range(angles.size):\n",
    "    ax.plot(bin_center, gamma[n], label=\"{}º\".format(ANGULOS[n]), marker=\"o\", ls=\"--\")\n",
    "    \n",
    "ax.set_ylabel(\"$\\gamma$\")\n",
    "res = ax.set_xlabel(\"Distance\")\n",
    "ax.legend()"
   ]
  },
  {
   "cell_type": "code",
   "execution_count": null,
   "id": "b23d7edc",
   "metadata": {},
   "outputs": [],
   "source": [
    "# AJUSTE AUTOMÁTICO DEL MODELO DE VARIOGRAMA\n",
    "#@@@@@@@@@@@@@@@@@@@@@@@@@@@@@@@@@@@@@@@@@@@\n",
    "PEPITAS = [False, False]\n",
    "MODELOS = [\"Gaussian\", \"Gaussian\"]\n",
    "COLORES = [\"red\", \"blue\"]\n",
    "XMAX = 11000\n",
    "#@@@@@@@@@@@@@@@@@@@@@@@@@@@@@@@@@@@@@@@@@@@\n",
    "\n",
    "fit_params = []\n",
    "R2 = []\n",
    "for n, modelo in enumerate(MODELOS):\n",
    "    fit_model = models[modelo](dim=2, nugget=PEPITAS[n])\n",
    "    para, pcov, r2 = fit_model.fit_variogram(bin_center, gamma[n], return_r2=True)\n",
    "    fit_params.append(para)\n",
    "    R2.append(r2)\n",
    "    plt.plot(bin_center, gamma[n], color=COLORES[n], ls=\"--\", marker=\"o\")\n",
    "    ax = plt.gca()\n",
    "    fit_model.plot(x_max=XMAX, ax=ax, color=COLORES[n])\n",
    "\n",
    "ax.set_ylabel(\"$\\gamma$\")\n",
    "ax.set_xlabel(\"Distance\")\n",
    "\n",
    "for n, angulo in enumerate(ANGULOS):\n",
    "    print(\"Ajuste dirección {}º: \".format(angulo))\n",
    "    print(\"=\"*20)\n",
    "    print(\"C: {0:.3f}\".format(fit_params[n][\"var\"]))\n",
    "    print(\"a: {0:.3f}\".format(fit_params[n][\"len_scale\"]))\n",
    "    print(\"Co: {0:.3f}\".format(para[\"nugget\"]))\n",
    "    print(\"R2: {0:.3f}\".format(R2[n]))"
   ]
  }
 ],
 "metadata": {
  "kernelspec": {
   "display_name": "Python 3 (ipykernel)",
   "language": "python",
   "name": "python3"
  },
  "language_info": {
   "codemirror_mode": {
    "name": "ipython",
    "version": 3
   },
   "file_extension": ".py",
   "mimetype": "text/x-python",
   "name": "python",
   "nbconvert_exporter": "python",
   "pygments_lexer": "ipython3",
   "version": "3.10.2"
  }
 },
 "nbformat": 4,
 "nbformat_minor": 5
}
