{
 "cells": [
  {
   "cell_type": "code",
   "execution_count": null,
   "id": "c4d8ea87",
   "metadata": {},
   "outputs": [],
   "source": [
    "%matplotlib inline\n",
    "import warnings\n",
    "warnings.filterwarnings('ignore')"
   ]
  },
  {
   "cell_type": "markdown",
   "id": "f76080c7",
   "metadata": {},
   "source": [
    "## Estimación del variograma experimental\n"
   ]
  },
  {
   "cell_type": "code",
   "execution_count": null,
   "id": "8a4c73be",
   "metadata": {},
   "outputs": [],
   "source": [
    "# Importamos módulos para el análisis\n",
    "import pandas as pd\n",
    "import numpy as np\n",
    "import matplotlib.pyplot as plt\n",
    "import gstools as gs\n",
    "\n",
    "# Posibles modelos de variograma\n",
    "models = {\n",
    "    \"Gaussian\": gs.Gaussian,\n",
    "    \"Exponential\": gs.Exponential,\n",
    "    \"Stable\": gs.Stable,\n",
    "    \"Rational\": gs.Rational,\n",
    "    \"Circular\": gs.Circular,\n",
    "    \"Spherical\": gs.Spherical,\n",
    "    \"SuperSpherical\": gs.SuperSpherical,\n",
    "    \"JBessel\": gs.JBessel,\n",
    "}"
   ]
  },
  {
   "cell_type": "code",
   "execution_count": null,
   "id": "5ca9058e",
   "metadata": {},
   "outputs": [],
   "source": [
    "# ESPEFICICAMOS ARCHIVO EXCEL Y HOJA\n",
    "#@@@@@@@@@@@@@@@@@@@@@@@@@@@@@@@@@@@@@@\n",
    "FILE = \"data/sondeos.xlsx\"\n",
    "HOJA = \"ej_Au\"\n",
    "XCOL = \"Dist. (pies)\"\n",
    "VCOL = \"Conc. (dtws)\"\n",
    "#@@@@@@@@@@@@@@@@@@@@@@@@@@@@@@@@@@@@@@\n",
    "\n",
    "data = pd.read_excel(FILE, HOJA, engine = \"openpyxl\")\n",
    "xi = data[XCOL]\n",
    "val = data[VCOL]*-1\n",
    "data.describe()"
   ]
  },
  {
   "cell_type": "code",
   "execution_count": null,
   "id": "7f94421f",
   "metadata": {},
   "outputs": [],
   "source": [
    "# ESTIMACIÓN DEL VARIOGRAMA EXPERIMENTAL\n",
    "#@@@@@@@@@@@@@@@@@@@@@@@@@@@@@@@@@@@@@@@\n",
    "bins = None\n",
    "bins = np.arange(0, 60, 5)\n",
    "#@@@@@@@@@@@@@@@@@@@@@@@@@@@@@@@@@@@@@@@\n",
    "\n",
    "coords = [xi]\n",
    "bin_center, gamma = gs.vario_estimate(coords, val, bins)\n",
    "fig, ax = plt.subplots()\n",
    "ax.scatter(bin_center, gamma)\n",
    "ax.set_ylabel(\"$\\gamma$\")\n",
    "ax.set_xlabel(\"Distance\")\n",
    "ax.set_ylim(ymin=0, ymax=20)\n",
    "res = ax.set_xlim(xmin=0)"
   ]
  },
  {
   "cell_type": "code",
   "execution_count": null,
   "id": "95dfa9d8",
   "metadata": {},
   "outputs": [],
   "source": [
    "# AJUSTE MANUAL DE UN MODELO DE VARIOGRAMA\n",
    "#@@@@@@@@@@@@@@@@@@@@@@@@@@@@@@@@@@@@@@@@@\n",
    "C = 9.5\n",
    "a = 18\n",
    "Co= 7.5\n",
    "MODELO = \"Spherical\"\n",
    "XMAX = 60\n",
    "#@@@@@@@@@@@@@@@@@@@@@@@@@@@@@@@@@@@@@@@@@\n",
    "\n",
    "fit_model = models[MODELO](dim=1, var=C, len_scale=a, nugget=Co)\n",
    "plt.scatter(bin_center, gamma, color=\"k\", label=\"data\")\n",
    "ax = plt.gca()\n",
    "res = fit_model.plot(x_max=XMAX, ax=ax)\n",
    "ax.set_ylabel(\"$\\gamma$\")\n",
    "ax.set_xlabel(\"Distance\")\n",
    "ax.set_ylim(ymin=0)\n",
    "res = ax.set_xlim(xmin=0)"
   ]
  },
  {
   "cell_type": "code",
   "execution_count": null,
   "id": "e2c5adf6",
   "metadata": {},
   "outputs": [],
   "source": [
    "# AJUSTE AUTOMÁTICO DEL MODELO DE VARIOGRAMA\n",
    "#@@@@@@@@@@@@@@@@@@@@@@@@@@@@@@@@@@@@@@@@@@@\n",
    "PEPITA = True\n",
    "MODELO = \"Spherical\"\n",
    "#@@@@@@@@@@@@@@@@@@@@@@@@@@@@@@@@@@@@@@@@@@@\n",
    "\n",
    "fit_model = models[MODELO](dim=1, nugget=PEPITA)\n",
    "para, pcov, r2 = fit_model.fit_variogram(bin_center, gamma, return_r2=True)\n",
    "plt.scatter(bin_center, gamma, color=\"k\", label=\"data\")\n",
    "ax = plt.gca()\n",
    "fit_model.plot(x_max=XMAX, ax=ax)\n",
    "ax.set_ylabel(\"$\\gamma$\")\n",
    "ax.set_xlabel(\"Distance\")\n",
    "ax.set_ylim(ymin=0)\n",
    "ax.set_xlim(xmin=0)\n",
    "\n",
    "print(\"PARÁMETROS DE AJUSTE\")\n",
    "print(\"=\"*20)\n",
    "print(\"C: {0:.3f}\".format(para[\"var\"]))\n",
    "print(\"a: {0:.3f}\".format(para[\"len_scale\"]))\n",
    "print(\"Co: {0:.3f}\".format(para[\"nugget\"]))\n",
    "print(\"R2: {0:.3f}\".format(r2))"
   ]
  },
  {
   "cell_type": "code",
   "execution_count": null,
   "id": "db75f926",
   "metadata": {},
   "outputs": [],
   "source": [
    "# ESTIMACIÓN DEL MEJOR MODELO DE AJUSTE\n",
    "\n",
    "# Representamos datos del variograma experimental\n",
    "plt.scatter(bin_center, gamma, color=\"k\", label=\"data\")\n",
    "ax = plt.gca()\n",
    "\n",
    "# Ajustamos todos los modelos\n",
    "scores = []\n",
    "parameters = []\n",
    "for model in models:\n",
    "    try:\n",
    "        fit_model = models[model](dim=2)\n",
    "        para, pcov, r2 = fit_model.fit_variogram(bin_center, gamma, return_r2=True)\n",
    "        var, len_scale, nugget = para[\"var\"], para[\"len_scale\"], para[\"nugget\"]\n",
    "        parameters.append([var, len_scale, nugget])\n",
    "        fit_model.plot(x_max=XMAX, ax=ax)\n",
    "        scores.append(r2)\n",
    "    except:\n",
    "        scores.append(0.000)\n",
    "        parameters.append([0.0, 0.0, 0.0])\n",
    "\n",
    "\n",
    "parameters = np.array(parameters)\n",
    "scores = np.array(scores)\n",
    "pos_scores = np.argsort(scores*-1)\n",
    "modelos = np.array(list(models.keys()))[pos_scores]\n",
    "parameters = parameters[pos_scores]\n",
    "scores = scores[pos_scores]\n",
    "\n",
    "for n in np.arange(scores.size):\n",
    "    if scores[n] > 0:\n",
    "        print(\"{0} {1} R2: {2:.3f} [C: {3:.2f}, a: {4:.2f}, Co: {5:.2f}]\".format(n+1, modelos[n], scores[n], parameters[n,0], \n",
    "                                      parameters[n,1], parameters[n,2]))\n",
    "    else:\n",
    "        print(\"{0} {1} -- The model cannot be adjusted  --\".format(n+1, modelos[n]))"
   ]
  }
 ],
 "metadata": {
  "kernelspec": {
   "display_name": "Python 3 (ipykernel)",
   "language": "python",
   "name": "python3"
  },
  "language_info": {
   "codemirror_mode": {
    "name": "ipython",
    "version": 3
   },
   "file_extension": ".py",
   "mimetype": "text/x-python",
   "name": "python",
   "nbconvert_exporter": "python",
   "pygments_lexer": "ipython3",
   "version": "3.10.2"
  }
 },
 "nbformat": 4,
 "nbformat_minor": 5
}
