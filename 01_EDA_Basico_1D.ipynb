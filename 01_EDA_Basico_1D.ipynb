{
 "cells": [
  {
   "cell_type": "markdown",
   "id": "2c5689d3",
   "metadata": {},
   "source": [
    "### Análisis exploratorio de datos\n",
    "\n",
    "Este ejemplo utiliza el archivo _**sondeos.xlsx**_, que describe varios sondeos con valores de Fe3O2, Al2O3 y SiO2 a varias profundidades. \n",
    "\n"
   ]
  },
  {
   "cell_type": "code",
   "execution_count": null,
   "id": "3c61e07f",
   "metadata": {},
   "outputs": [],
   "source": [
    "# Importamos módulos para el análisis\n",
    "import pandas as pd\n",
    "import numpy as np\n",
    "import matplotlib.pyplot as plt"
   ]
  },
  {
   "cell_type": "code",
   "execution_count": null,
   "id": "652e2c0e",
   "metadata": {},
   "outputs": [],
   "source": [
    "# ESPEFICICAMOS CAMPOS PARA EL ANÁLISIS\n",
    "#@@@@@@@@@@@@@@@@@@@@@@@@@@@@@@@@@@@@@@\n",
    "FILE = \"data/sondeos.xlsx\"\n",
    "HOJA = \"sondeo_bauxita\"\n",
    "XCOL = \"Distancia\"\n",
    "VCOL = \"Fe3O2\"\n",
    "#@@@@@@@@@@@@@@@@@@@@@@@@@@@@@@@@@@@@@@"
   ]
  },
  {
   "cell_type": "code",
   "execution_count": null,
   "id": "a6df402c",
   "metadata": {},
   "outputs": [],
   "source": [
    "# Cargamos datos\n",
    "data = pd.read_excel(FILE, HOJA, engine = \"openpyxl\")\n",
    "xi = data[XCOL]      \n",
    "val = data[VCOL]"
   ]
  },
  {
   "cell_type": "code",
   "execution_count": null,
   "id": "d514633b",
   "metadata": {},
   "outputs": [],
   "source": [
    "# Estadísticos básicos de los datos\n",
    "print(\"\\nESTADÍSTICOS BÁSICOS:\")\n",
    "data.describe()"
   ]
  },
  {
   "cell_type": "code",
   "execution_count": null,
   "id": "937c18d2",
   "metadata": {},
   "outputs": [],
   "source": [
    "# TABLA DE FRECUENCIAS\n",
    "#@@@@@@@@@@@@@@@@@@@@@\n",
    "VARIABLE = \"Fe3O2\"\n",
    "LIM_INF = 15\n",
    "LIM_SUP = 41\n",
    "ANCHO = 2\n",
    "#@@@@@@@@@@@@@@@@@@@@@\n",
    "\n",
    "val = data[VARIABLE]\n",
    "bins = np.arange(LIM_INF, LIM_SUP + 1, ANCHO)\n",
    "res = np.histogram(val, bins)\n",
    "clases = np.arange(res[0].size)\n",
    "lim_inf = LIM_INF + ANCHO * clases\n",
    "lim_sup = LIM_INF + ANCHO + ANCHO * clases\n",
    "nelem = res[0]\n",
    "freq = (nelem / nelem.sum())*100\n",
    "\n",
    "colnames = [\"Clase\", \"Lim Inf\", \"Lim Sup\", \"N elem.\", \"Frecuencia\"]\n",
    "data_arr = pd.DataFrame(np.array([clases +1, lim_inf, lim_sup, nelem, freq]).T, columns=colnames)\n",
    "data_arr\n"
   ]
  },
  {
   "cell_type": "code",
   "execution_count": null,
   "id": "4b347f4d",
   "metadata": {},
   "outputs": [],
   "source": [
    "# HISTOGRAMA\n",
    "bins = np.arange(LIM_INF, LIM_SUP + 1, ANCHO)\n",
    "fig = plt.figure(figsize = (8, 6))\n",
    "ax = fig.add_subplot(111)\n",
    "ax.set_ylabel(\"Frecuencia\")\n",
    "ax.set_xlabel(VARIABLE)\n",
    "res = ax.hist(val, bins, edgecolor=\"k\", align=\"left\")"
   ]
  },
  {
   "cell_type": "code",
   "execution_count": null,
   "id": "63e2368f",
   "metadata": {},
   "outputs": [],
   "source": [
    "# FRECUENCIAS ACUMULADAS\n",
    "bins = np.arange(LIM_INF, LIM_SUP + 1, ANCHO)\n",
    "fig = plt.figure(figsize = (8, 6))\n",
    "ax = fig.add_subplot(111)\n",
    "ax.set_ylabel(\"Frecuencia acumulada\")\n",
    "ax.set_xlabel(VARIABLE)\n",
    "res = ax.hist(val, bins, edgecolor=\"k\", align=\"left\", cumulative=True)"
   ]
  },
  {
   "cell_type": "code",
   "execution_count": null,
   "id": "081c55e8",
   "metadata": {},
   "outputs": [],
   "source": [
    "# DIAGRAMA DE CAJA (BOX-PLOT)\n",
    "filter_val = val[~np.isnan(val)]\n",
    "res = plt.boxplot(filter_val)"
   ]
  }
 ],
 "metadata": {
  "kernelspec": {
   "display_name": "Python 3 (ipykernel)",
   "language": "python",
   "name": "python3"
  },
  "language_info": {
   "codemirror_mode": {
    "name": "ipython",
    "version": 3
   },
   "file_extension": ".py",
   "mimetype": "text/x-python",
   "name": "python",
   "nbconvert_exporter": "python",
   "pygments_lexer": "ipython3",
   "version": "3.10.2"
  }
 },
 "nbformat": 4,
 "nbformat_minor": 5
}
