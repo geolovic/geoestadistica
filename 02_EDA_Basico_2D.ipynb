{
 "cells": [
  {
   "cell_type": "markdown",
   "id": "2c5689d3",
   "metadata": {},
   "source": [
    "### Análisis exploratorio de datos\n",
    "\n",
    "Este ejemplo utiliza el archivo _**UNCF_dataset.xlsx**_, que describe sondeos en los cuales se ha cortado una discordancia a una profunidad determinada. \n",
    "\n",
    "\"X\" >> Coordenada X de sondeo <br>\n",
    "\"Y\" >> Coordenada Y de sondeo <br>\n",
    "\"ID\" >> Identificador de sondeo <br>\n",
    "\"Elevation (ft)\" >> Profundidad (en pies) de la discordancia (val. negativos) <br>"
   ]
  },
  {
   "cell_type": "code",
   "execution_count": null,
   "id": "3c61e07f",
   "metadata": {},
   "outputs": [],
   "source": [
    "# Importamos módulos para el análisis\n",
    "import pandas as pd\n",
    "import numpy as np\n",
    "import matplotlib.pyplot as plt"
   ]
  },
  {
   "cell_type": "code",
   "execution_count": null,
   "id": "652e2c0e",
   "metadata": {},
   "outputs": [],
   "source": [
    "# ESPEFICICAMOS CAMPOS PARA EL ANÁLISIS\n",
    "#@@@@@@@@@@@@@@@@@@@@@@@@@@@@@@@@@@@@@@\n",
    "FILE = \"data/UNCF_dataset.xlsx\"\n",
    "HOJA = \"Hoja1\"\n",
    "XCOL = \"X\"\n",
    "YCOL = \"Y\"\n",
    "VCOL = \"Elevation (ft)\"\n",
    "#@@@@@@@@@@@@@@@@@@@@@@@@@@@@@@@@@@@@@@"
   ]
  },
  {
   "cell_type": "code",
   "execution_count": null,
   "id": "d1e7ec98",
   "metadata": {},
   "outputs": [],
   "source": [
    "# Cargamos datos\n",
    "data = pd.read_excel(FILE, HOJA, engine = \"openpyxl\")\n",
    "data.describe()"
   ]
  },
  {
   "cell_type": "code",
   "execution_count": null,
   "id": "e17840b1",
   "metadata": {},
   "outputs": [],
   "source": [
    "# Representamos datos\n",
    "xi = data[XCOL]\n",
    "yi = data[YCOL]\n",
    "val = np.array(data[VCOL]) * -1\n",
    "plt.scatter(xi, yi)"
   ]
  },
  {
   "cell_type": "code",
   "execution_count": null,
   "id": "d514633b",
   "metadata": {},
   "outputs": [],
   "source": [
    "# Estadísticos básicos\n",
    "print(\"\\nESTADÍSTICOS BÁSICOS:\")\n",
    "# Media\n",
    "media = np.nanmean(val)\n",
    "print(\"Media: {:.1f}\".format(media))\n",
    "\n",
    "# Mediana\n",
    "mediana = np.nanpercentile(val, 50)\n",
    "print(\"Mediana: {:.1f}\".format(mediana))\n",
    "\n",
    "# Varianza\n",
    "varianza = np.nanvar(val)\n",
    "print(\"Varianza: {:.1f}\".format(varianza))\n",
    "\n",
    "# Desviación típica\n",
    "desv_tip = np.nanstd(val)\n",
    "print(\"Desviación típica: {:.1f}\".format(desv_tip))\n",
    "\n",
    "# Máximo\n",
    "maximo = np.nanmax(val)\n",
    "print(\"Valor máximo: {:.1f}\".format(maximo))\n",
    "\n",
    "# Mínimo\n",
    "minimo = np.nanmin(val)\n",
    "print(\"Valor mínimo: {:.1f}\".format(minimo))\n",
    "\n",
    "# Cuartiles\n",
    "print(\"\\nCUARTILES:\")\n",
    "primer_cuartil = np.nanpercentile(val, 25)\n",
    "segundo_cuartil = np.nanpercentile(val, 50)\n",
    "tercer_cuartil = np.nanpercentile(val, 75)\n",
    "print(\"Primer Cuartil: {:.1f}\".format(primer_cuartil))\n",
    "print(\"Segundo Cuartil: {:.1f}\".format(segundo_cuartil))\n",
    "print(\"Tercer Cuartil: {:.1f}\".format(tercer_cuartil))\n",
    "print(\"Rango intercuartílico: {:.1f}\".format(tercer_cuartil - primer_cuartil))"
   ]
  },
  {
   "cell_type": "code",
   "execution_count": null,
   "id": "937c18d2",
   "metadata": {},
   "outputs": [],
   "source": [
    "# TABLA DE FRECUENCIAS\n",
    "#@@@@@@@@@@@@@@@@@@@@@\n",
    "LIM_INF = 7680\n",
    "LIM_SUP = 8070\n",
    "ANCHO = 30\n",
    "#@@@@@@@@@@@@@@@@@@@@@\n",
    "\n",
    "bins = np.arange(LIM_INF, LIM_SUP + 1, ANCHO)\n",
    "res = np.histogram(val, bins)\n",
    "clases = np.arange(res[0].size)\n",
    "lim_inf = LIM_INF + ANCHO * clases\n",
    "lim_sup = LIM_INF + ANCHO + ANCHO * clases\n",
    "nelem = res[0]\n",
    "freq = (nelem / nelem.sum())*100\n",
    "\n",
    "colnames = [\"Clase\", \"Lim Inf\", \"Lim Sup\", \"N elem.\", \"Frecuencia\"]\n",
    "data_arr = pd.DataFrame(np.array([clases +1, lim_inf, lim_sup, nelem, freq]).T, columns=colnames)\n",
    "data_arr\n"
   ]
  },
  {
   "cell_type": "code",
   "execution_count": null,
   "id": "f0972f4d",
   "metadata": {},
   "outputs": [],
   "source": [
    "# HISTOGRAMA\n",
    "bins = np.arange(LIM_INF, LIM_SUP + 1, ANCHO)\n",
    "fig = plt.figure(figsize = (8, 6))\n",
    "ax = fig.add_subplot(111)\n",
    "res = ax.hist(val, bins, edgecolor=\"k\", align=\"left\")"
   ]
  },
  {
   "cell_type": "code",
   "execution_count": null,
   "id": "b856b9ae",
   "metadata": {},
   "outputs": [],
   "source": [
    "# FRECUENCIAS ACUMULADAS\n",
    "bins = np.arange(LIM_INF, LIM_SUP + 1, ANCHO)\n",
    "fig = plt.figure(figsize = (8, 6))\n",
    "ax = fig.add_subplot(111)\n",
    "res = ax.hist(val, bins, edgecolor=\"k\", align=\"left\", cumulative=True)"
   ]
  },
  {
   "cell_type": "code",
   "execution_count": null,
   "id": "a8f18057",
   "metadata": {},
   "outputs": [],
   "source": [
    "# DIAGRAMA DE CAJA (BOX-PLOT)\n",
    "filter_val = val[~np.isnan(val)]\n",
    "res = plt.boxplot(filter_val)"
   ]
  }
 ],
 "metadata": {
  "kernelspec": {
   "display_name": "Python 3 (ipykernel)",
   "language": "python",
   "name": "python3"
  },
  "language_info": {
   "codemirror_mode": {
    "name": "ipython",
    "version": 3
   },
   "file_extension": ".py",
   "mimetype": "text/x-python",
   "name": "python",
   "nbconvert_exporter": "python",
   "pygments_lexer": "ipython3",
   "version": "3.10.2"
  }
 },
 "nbformat": 4,
 "nbformat_minor": 5
}
